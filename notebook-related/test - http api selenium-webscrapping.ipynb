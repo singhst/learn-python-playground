{
 "cells": [
  {
   "cell_type": "markdown",
   "metadata": {
    "application/vnd.databricks.v1+cell": {
     "cellMetadata": {
      "byteLimit": 2048000,
      "rowLimit": 10000
     },
     "inputWidgets": {},
     "nuid": "199192e6-32a0-4b50-8d18-2185e045ef41",
     "showTitle": false,
     "title": ""
    }
   },
   "source": [
    "# https://stackoverflow.com/questions/69192050/using-selenium-within-databricks-chrome-not-reachable/76515841#76515841"
   ]
  },
  {
   "cell_type": "code",
   "execution_count": 0,
   "metadata": {
    "application/vnd.databricks.v1+cell": {
     "cellMetadata": {
      "byteLimit": 2048000,
      "rowLimit": 10000
     },
     "inputWidgets": {},
     "nuid": "300da123-1bc9-47dc-bfea-c6c3ad93331b",
     "showTitle": false,
     "title": ""
    }
   },
   "outputs": [
    {
     "output_type": "stream",
     "name": "stdout",
     "output_type": "stream",
     "text": [
      "Collecting selenium\r\n  Using cached selenium-4.25.0-py3-none-any.whl (9.7 MB)\r\nRequirement already satisfied: certifi>=2021.10.8 in /databricks/python3/lib/python3.10/site-packages (from selenium) (2022.9.14)\r\nRequirement already satisfied: urllib3[socks]<3,>=1.26 in /databricks/python3/lib/python3.10/site-packages (from selenium) (1.26.11)\r\nCollecting trio-websocket~=0.9\r\n  Using cached trio_websocket-0.11.1-py3-none-any.whl (17 kB)\r\nCollecting typing_extensions~=4.9\r\n  Using cached typing_extensions-4.12.2-py3-none-any.whl (37 kB)\r\nCollecting websocket-client~=1.8\r\n  Using cached websocket_client-1.8.0-py3-none-any.whl (58 kB)\r\nCollecting trio~=0.17\r\n  Using cached trio-0.26.2-py3-none-any.whl (475 kB)\r\nCollecting sortedcontainers\r\n  Using cached sortedcontainers-2.4.0-py2.py3-none-any.whl (29 kB)\r\nCollecting attrs>=23.2.0\r\n  Using cached attrs-24.2.0-py3-none-any.whl (63 kB)\r\nRequirement already satisfied: idna in /databricks/python3/lib/python3.10/site-packages (from trio~=0.17->selenium) (3.3)\r\nCollecting sniffio>=1.3.0\r\n  Using cached sniffio-1.3.1-py3-none-any.whl (10 kB)\r\nCollecting outcome\r\n  Using cached outcome-1.3.0.post0-py2.py3-none-any.whl (10 kB)\r\nCollecting exceptiongroup\r\n  Using cached exceptiongroup-1.2.2-py3-none-any.whl (16 kB)\r\nCollecting wsproto>=0.14\r\n  Using cached wsproto-1.2.0-py3-none-any.whl (24 kB)\r\nCollecting PySocks!=1.5.7,<2.0,>=1.5.6\r\n  Using cached PySocks-1.7.1-py3-none-any.whl (16 kB)\r\nRequirement already satisfied: h11<1,>=0.9.0 in /databricks/python3/lib/python3.10/site-packages (from wsproto>=0.14->trio-websocket~=0.9->selenium) (0.14.0)\r\nInstalling collected packages: sortedcontainers, wsproto, websocket-client, typing_extensions, sniffio, PySocks, exceptiongroup, attrs, outcome, trio, trio-websocket, selenium\r\n  Attempting uninstall: websocket-client\r\n    Found existing installation: websocket-client 0.58.0\r\n    Not uninstalling websocket-client at /databricks/python3/lib/python3.10/site-packages, outside environment /local_disk0/.ephemeral_nfs/envs/pythonEnv-e2b31ebb-6ec6-4e67-90f1-6a5a6cdb83a3\r\n    Can't uninstall 'websocket-client'. No files were found to uninstall.\r\n  Attempting uninstall: typing_extensions\r\n    Found existing installation: typing_extensions 4.3.0\r\n    Not uninstalling typing-extensions at /databricks/python3/lib/python3.10/site-packages, outside environment /local_disk0/.ephemeral_nfs/envs/pythonEnv-e2b31ebb-6ec6-4e67-90f1-6a5a6cdb83a3\r\n    Can't uninstall 'typing_extensions'. No files were found to uninstall.\r\n  Attempting uninstall: sniffio\r\n    Found existing installation: sniffio 1.2.0\r\n    Not uninstalling sniffio at /databricks/python3/lib/python3.10/site-packages, outside environment /local_disk0/.ephemeral_nfs/envs/pythonEnv-e2b31ebb-6ec6-4e67-90f1-6a5a6cdb83a3\r\n    Can't uninstall 'sniffio'. No files were found to uninstall.\r\n  Attempting uninstall: attrs\r\n    Found existing installation: attrs 21.4.0\r\n    Not uninstalling attrs at /databricks/python3/lib/python3.10/site-packages, outside environment /local_disk0/.ephemeral_nfs/envs/pythonEnv-e2b31ebb-6ec6-4e67-90f1-6a5a6cdb83a3\r\n    Can't uninstall 'attrs'. No files were found to uninstall.\r\nSuccessfully installed PySocks-1.7.1 attrs-24.2.0 exceptiongroup-1.2.2 outcome-1.3.0.post0 selenium-4.25.0 sniffio-1.3.1 sortedcontainers-2.4.0 trio-0.26.2 trio-websocket-0.11.1 typing_extensions-4.12.2 websocket-client-1.8.0 wsproto-1.2.0\r\n\r\n\u001B[1m[\u001B[0m\u001B[34;49mnotice\u001B[0m\u001B[1;39;49m]\u001B[0m\u001B[39;49m A new release of pip available: \u001B[0m\u001B[31;49m22.2.2\u001B[0m\u001B[39;49m -> \u001B[0m\u001B[32;49m24.2\u001B[0m\r\n\u001B[1m[\u001B[0m\u001B[34;49mnotice\u001B[0m\u001B[1;39;49m]\u001B[0m\u001B[39;49m To update, run: \u001B[0m\u001B[32;49mpip install --upgrade pip\u001B[0m\r\n"
     ]
    }
   ],
   "source": [
    "!pip install selenium"
   ]
  },
  {
   "cell_type": "code",
   "execution_count": 0,
   "metadata": {
    "application/vnd.databricks.v1+cell": {
     "cellMetadata": {
      "byteLimit": 2048000,
      "rowLimit": 10000
     },
     "inputWidgets": {},
     "nuid": "17833342-ffff-41b8-9c99-c805627664f1",
     "showTitle": false,
     "title": ""
    }
   },
   "outputs": [],
   "source": [
    "dbutils.library.restartPython()"
   ]
  },
  {
   "cell_type": "code",
   "execution_count": 0,
   "metadata": {
    "application/vnd.databricks.v1+cell": {
     "cellMetadata": {
      "byteLimit": 2048000,
      "rowLimit": 10000
     },
     "inputWidgets": {},
     "nuid": "7fc56b2a-38e5-44c1-b916-6baae820273f",
     "showTitle": false,
     "title": ""
    }
   },
   "outputs": [],
   "source": [
    "# imports needed for notebook\n",
    "from datetime import datetime\n",
    "import dateutil.relativedelta\n",
    "import os\n",
    "import time\n",
    "from selenium import webdriver\n",
    "from selenium.webdriver.chrome.options import Options\n",
    "from selenium.webdriver.chrome.service import Service\n",
    "from selenium.webdriver.common.action_chains import ActionChains\n",
    "from selenium.webdriver.support.ui import WebDriverWait\n",
    "import urllib.request, json"
   ]
  },
  {
   "cell_type": "code",
   "execution_count": 0,
   "metadata": {
    "application/vnd.databricks.v1+cell": {
     "cellMetadata": {
      "byteLimit": 2048000,
      "rowLimit": 10000
     },
     "inputWidgets": {},
     "nuid": "e26faff4-4bc2-43f0-81f1-4c366d6fea3a",
     "showTitle": false,
     "title": ""
    }
   },
   "outputs": [
    {
     "output_type": "stream",
     "name": "stdout",
     "output_type": "stream",
     "text": [
      "129.0.6668.89\nhttps://storage.googleapis.com/chrome-for-testing-public/129.0.6668.89/linux64/chromedriver-linux64.zip\n"
     ]
    }
   ],
   "source": [
    "with urllib.request.urlopen(\"https://googlechromelabs.github.io/chrome-for-testing/last-known-good-versions-with-downloads.json\") as url:\n",
    "    data = json.load(url)\n",
    "    print(data['channels']['Stable']['version'])\n",
    "    url = data['channels']['Stable']['downloads']['chromedriver'][0]['url']\n",
    "    print(url)\n",
    "    \n",
    "    # set the url as environment variable to use in scripting \n",
    "    os.environ['url']= url"
   ]
  },
  {
   "cell_type": "code",
   "execution_count": 0,
   "metadata": {
    "application/vnd.databricks.v1+cell": {
     "cellMetadata": {
      "byteLimit": 2048000,
      "rowLimit": 10000
     },
     "inputWidgets": {},
     "nuid": "c9da544f-7706-4912-9a08-c898e4f916c2",
     "showTitle": false,
     "title": ""
    }
   },
   "outputs": [
    {
     "output_type": "stream",
     "name": "stderr",
     "output_type": "stream",
     "text": [
      "WARNING: timestamping does nothing in combination with -O. See the manual\nfor details.\n\n--2024-10-04 05:55:07--  https://storage.googleapis.com/chrome-for-testing-public/129.0.6668.89/linux64/chromedriver-linux64.zip\nResolving storage.googleapis.com (storage.googleapis.com)... 142.251.175.207, 172.217.194.207, 172.253.118.207, ...\nConnecting to storage.googleapis.com (storage.googleapis.com)|142.251.175.207|:443... connected.\nHTTP request sent, awaiting response... 200 OK\nLength: 9411018 (9.0M) [application/zip]\nSaving to: ‘/tmp/chromedriver_linux64.zip’\n\n     0K .......... .......... .......... .......... ..........  0% 10.2M 1s\n    50K .......... .......... .......... .......... ..........  1% 72.5M 0s\n   100K .......... .......... .......... .......... ..........  1% 23.6M 0s\n   150K .......... .......... .......... .......... ..........  2% 28.5M 0s\n   200K .......... .......... .......... .......... ..........  2%  112M 0s\n   250K .......... .......... .......... .......... ..........  3%  119M 0s\n   300K .......... .......... .......... .......... ..........  3% 18.5M 0s\n   350K .......... .......... .......... .......... ..........  4% 19.2M 0s\n   400K .......... .......... .......... .......... ..........  4%  111M 0s\n   450K .......... .......... .......... .......... ..........  5%  110M 0s\n   500K .......... .......... .......... .......... ..........  5%  128M 0s\n   550K .......... .......... .......... .......... ..........  6%  118M 0s\n   600K .......... .......... .......... .......... ..........  7% 91.9M 0s\n   650K .......... .......... .......... .......... ..........  7%  116M 0s\n   700K .......... .......... .......... .......... ..........  8%  110M 0s\n   750K .......... .......... .......... .......... ..........  8%  125M 0s\n   800K .......... .......... .......... .......... ..........  9%  116M 0s\n   850K .......... .......... .......... .......... ..........  9%  120M 0s\n   900K .......... .......... .......... .......... .......... 10%  120M 0s\n   950K .......... .......... .......... .......... .......... 10%  105M 0s\n  1000K .......... .......... .......... .......... .......... 11%  108M 0s\n  1050K .......... .......... .......... .......... .......... 11%  285M 0s\n  1100K .......... .......... .......... .......... .......... 12%  231M 0s\n  1150K .......... .......... .......... .......... .......... 13%  262M 0s\n  1200K .......... .......... .......... .......... .......... 13%  273M 0s\n  1250K .......... .......... .......... .......... .......... 14%  235M 0s\n  1300K .......... .......... .......... .......... .......... 14%  329M 0s\n  1350K .......... .......... .......... .......... .......... 15%  287M 0s\n  1400K .......... .......... .......... .......... .......... 15%  331M 0s\n  1450K .......... .......... .......... .......... .......... 16%  299M 0s\n  1500K .......... .......... .......... .......... .......... 16%  276M 0s\n  1550K .......... .......... .......... .......... .......... 17%  323M 0s\n  1600K .......... .......... .......... .......... .......... 17%  260M 0s\n  1650K .......... .......... .......... .......... .......... 18%  226M 0s\n  1700K .......... .......... .......... .......... .......... 19%  272M 0s\n  1750K .......... .......... .......... .......... .......... 19%  297M 0s\n  1800K .......... .......... .......... .......... .......... 20%  296M 0s\n  1850K .......... .......... .......... .......... .......... 20%  254M 0s\n  1900K .......... .......... .......... .......... .......... 21%  286M 0s\n  1950K .......... .......... .......... .......... .......... 21%  271M 0s\n  2000K .......... .......... .......... .......... .......... 22%  231M 0s\n  2050K .......... .......... .......... .......... .......... 22%  193M 0s\n  2100K .......... .......... .......... .......... .......... 23%  219M 0s\n  2150K .......... .......... .......... .......... .......... 23%  251M 0s\n  2200K .......... .......... .......... .......... .......... 24%  292M 0s\n  2250K .......... .......... .......... .......... .......... 25%  269M 0s\n  2300K .......... .......... .......... .......... .......... 25%  321M 0s\n  2350K .......... .......... .......... .......... .......... 26%  336M 0s\n  2400K .......... .......... .......... .......... .......... 26%  236M 0s\n  2450K .......... .......... .......... .......... .......... 27%  251M 0s\n  2500K .......... .......... .......... .......... .......... 27%  293M 0s\n  2550K .......... .......... .......... .......... .......... 28%  267M 0s\n  2600K .......... .......... .......... .......... .......... 28%  344M 0s\n  2650K .......... .......... .......... .......... .......... 29%  298M 0s\n  2700K .......... .......... .......... .......... .......... 29%  285M 0s\n  2750K .......... .......... .......... .......... .......... 30%  262M 0s\n  2800K .......... .......... .......... .......... .......... 31%  269M 0s\n  2850K .......... .......... .......... .......... .......... 31%  279M 0s\n  2900K .......... .......... .......... .......... .......... 32%  228M 0s\n  2950K .......... .......... .......... .......... .......... 32%  247M 0s\n  3000K .......... .......... .......... .......... .......... 33%  295M 0s\n  3050K .......... .......... .......... .......... .......... 33%  273M 0s\n  3100K .......... .......... .......... .......... .......... 34%  296M 0s\n  3150K .......... .......... .......... .......... .......... 34%  286M 0s\n  3200K .......... .......... .......... .......... .......... 35%  293M 0s\n  3250K .......... .......... .......... .......... .......... 35%  279M 0s\n  3300K .......... .......... .......... .......... .......... 36%  267M 0s\n  3350K .......... .......... .......... .......... .......... 36%  272M 0s\n  3400K .......... .......... .......... .......... .......... 37%  329M 0s\n  3450K .......... .......... .......... .......... .......... 38%  259M 0s\n  3500K .......... .......... .......... .......... .......... 38%  293M 0s\n  3550K .......... .......... .......... .......... .......... 39%  279M 0s\n  3600K .......... .......... .......... .......... .......... 39%  295M 0s\n  3650K .......... .......... .......... .......... .......... 40%  225M 0s\n  3700K .......... .......... .......... .......... .......... 40%  264M 0s\n  3750K .......... .......... .......... .......... .......... 41%  292M 0s\n  3800K .......... .......... .......... .......... .......... 41%  302M 0s\n  3850K .......... .......... .......... .......... .......... 42%  299M 0s\n  3900K .......... .......... .......... .......... .......... 42%  330M 0s\n  3950K .......... .......... .......... .......... .......... 43%  278M 0s\n  4000K .......... .......... .......... .......... .......... 44%  324M 0s\n  4050K .......... .......... .......... .......... .......... 44%  250M 0s\n  4100K .......... .......... .......... .......... .......... 45%  293M 0s\n  4150K .......... .......... .......... .......... .......... 45%  253M 0s\n  4200K .......... .......... .......... .......... .......... 46%  282M 0s\n  4250K .......... .......... .......... .......... .......... 46%  306M 0s\n  4300K .......... .......... .......... .......... .......... 47%  334M 0s\n  4350K .......... .......... .......... .......... .......... 47%  290M 0s\n  4400K .......... .......... .......... .......... .......... 48%  293M 0s\n  4450K .......... .......... .......... .......... .......... 48%  267M 0s\n  4500K .......... .......... .......... .......... .......... 49%  336M 0s\n  4550K .......... .......... .......... .......... .......... 50%  254M 0s\n  4600K .......... .......... .......... .......... .......... 50%  292M 0s\n  4650K .......... .......... .......... .......... .......... 51%  294M 0s\n  4700K .......... .......... .......... .......... .......... 51%  257M 0s\n  4750K .......... .......... .......... .......... .......... 52%  301M 0s\n  4800K .......... .......... .......... .......... .......... 52%  267M 0s\n  4850K .......... .......... .......... .......... .......... 53%  272M 0s\n  4900K .......... .......... .......... .......... .......... 53%  332M 0s\n  4950K .......... .......... .......... .......... .......... 54%  122M 0s\n  5000K .......... .......... .......... .......... .......... 54%  288M 0s\n  5050K .......... .......... .......... .......... .......... 55%  300M 0s\n  5100K .......... .......... .......... .......... .......... 56%  337M 0s\n  5150K .......... .......... .......... .......... .......... 56%  281M 0s\n  5200K .......... .......... .......... .......... .......... 57%  325M 0s\n  5250K .......... .......... .......... .......... .......... 57%  282M 0s\n  5300K .......... .......... .......... .......... .......... 58%  288M 0s\n  5350K .......... .......... .......... .......... .......... 58%  270M 0s\n  5400K .......... .......... .......... .......... .......... 59%  326M 0s\n  5450K .......... .......... .......... .......... .......... 59%  294M 0s\n  5500K .......... .......... .......... .......... .......... 60%  217M 0s\n  5550K .......... .......... .......... .......... .......... 60%  332M 0s\n  5600K .......... .......... .......... .......... .......... 61%  337M 0s\n  5650K .......... .......... .......... .......... .......... 62%  207M 0s\n  5700K .......... .......... .......... .......... .......... 62%  306M 0s\n  5750K .......... .......... .......... .......... .......... 63%  334M 0s\n  5800K .......... .......... .......... .......... .......... 63%  264M 0s\n  5850K .......... .......... .......... .......... .......... 64%  296M 0s\n  5900K .......... .......... .......... .......... .......... 64%  336M 0s\n  5950K .......... .......... .......... .......... .......... 65%  277M 0s\n  6000K .......... .......... .......... .......... .......... 65%  292M 0s\n  6050K .......... .......... .......... .......... .......... 66%  249M 0s\n  6100K .......... .......... .......... .......... .......... 66%  293M 0s\n  6150K .......... .......... .......... .......... .......... 67%  329M 0s\n  6200K .......... .......... .......... .......... .......... 68%  327M 0s\n  6250K .......... .......... .......... .......... .......... 68%  255M 0s\n  6300K .......... .......... .......... .......... .......... 69%  292M 0s\n  6350K .......... .......... .......... .......... .......... 69%  338M 0s\n  6400K .......... .......... .......... .......... .......... 70%  309M 0s\n  6450K .......... .......... .......... .......... .......... 70%  366M 0s\n  6500K .......... .......... .......... .......... .......... 71%  372M 0s\n  6550K .......... .......... .......... .......... .......... 71%  366M 0s\n  6600K .......... .......... .......... .......... .......... 72%  332M 0s\n  6650K .......... .......... .......... .......... .......... 72%  370M 0s\n  6700K .......... .......... .......... .......... .......... 73%  370M 0s\n  6750K .......... .......... .......... .......... .......... 73%  371M 0s\n  6800K .......... .......... .......... .......... .......... 74%  304M 0s\n  6850K .......... .......... .......... .......... .......... 75%  377M 0s\n  6900K .......... .......... .......... .......... .......... 75%  248M 0s\n  6950K .......... .......... .......... .......... .......... 76%  341M 0s\n  7000K .......... .......... .......... .......... .......... 76%  267M 0s\n  7050K .......... .......... .......... .......... .......... 77%  357M 0s\n  7100K .......... .......... .......... .......... .......... 77%  322M 0s\n  7150K .......... .......... .......... .......... .......... 78%  357M 0s\n  7200K .......... .......... .......... .......... .......... 78%  300M 0s\n  7250K .......... .......... .......... .......... .......... 79%  369M 0s\n  7300K .......... .......... .......... .......... .......... 79%  363M 0s\n  7350K .......... .......... .......... .......... .......... 80%  367M 0s\n  7400K .......... .......... .......... .......... .......... 81%  331M 0s\n  7450K .......... .......... .......... .......... .......... 81%  357M 0s\n  7500K .......... .......... .......... .......... .......... 82%  371M 0s\n  7550K .......... .......... .......... .......... .......... 82%  365M 0s\n  7600K .......... .......... .......... .......... .......... 83%  306M 0s\n  7650K .......... .......... .......... .......... .......... 83%  361M 0s\n  7700K .......... .......... .......... .......... .......... 84%  371M 0s\n  7750K .......... .......... .......... .......... .......... 84%  362M 0s\n  7800K .......... .......... .......... .......... .......... 85%  335M 0s\n  7850K .......... .......... .......... .......... .......... 85%  373M 0s\n  7900K .......... .......... .......... .......... .......... 86%  361M 0s\n  7950K .......... .......... .......... .......... .......... 87%  366M 0s\n  8000K .......... .......... .......... .......... .......... 87%  301M 0s\n  8050K .......... .......... .......... .......... .......... 88%  379M 0s\n  8100K .......... .......... .......... .......... .......... 88%  362M 0s\n  8150K .......... .......... .......... .......... .......... 89%  366M 0s\n  8200K .......... .......... .......... .......... .......... 89%  339M 0s\n  8250K .......... .......... .......... .......... .......... 90%  358M 0s\n  8300K .......... .......... .......... .......... .......... 90%  376M 0s\n  8350K .......... .......... .......... .......... .......... 91%  332M 0s\n  8400K .......... .......... .......... .......... .......... 91%  304M 0s\n  8450K .......... .......... .......... .......... .......... 92%  366M 0s\n  8500K .......... .......... .......... .......... .......... 93%  354M 0s\n  8550K .......... .......... .......... .......... .......... 93%  375M 0s\n  8600K .......... .......... .......... .......... .......... 94%  334M 0s\n  8650K .......... .......... .......... .......... .......... 94%  369M 0s\n  8700K .......... .......... .......... .......... .......... 95%  365M 0s\n  8750K .......... .......... .......... .......... .......... 95%  357M 0s\n  8800K .......... .......... .......... .......... .......... 96%  305M 0s\n  8850K .......... .......... .......... .......... .......... 96%  366M 0s\n  8900K .......... .......... .......... .......... .......... 97%  377M 0s\n  8950K .......... .......... .......... .......... .......... 97%  374M 0s\n  9000K .......... .......... .......... .......... .......... 98%  334M 0s\n  9050K .......... .......... .......... .......... .......... 99%  378M 0s\n  9100K .......... .......... .......... .......... .......... 99%  377M 0s\n  9150K .......... .......... .......... ..........           100%  350M=0.05s\n\n2024-10-04 05:55:08 (189 MB/s) - ‘/tmp/chromedriver_linux64.zip’ saved [9411018/9411018]\n\n"
     ]
    },
    {
     "output_type": "stream",
     "name": "stdout",
     "output_type": "stream",
     "text": [
      "Archive:  /tmp/chromedriver_linux64.zip\n  inflating: /tmp/chromedriver/chromedriver-linux64/LICENSE.chromedriver  \n  inflating: /tmp/chromedriver/chromedriver-linux64/THIRD_PARTY_NOTICES.chromedriver  \n  inflating: /tmp/chromedriver/chromedriver-linux64/chromedriver  \n"
     ]
    }
   ],
   "source": [
    "%sh\n",
    "wget -N $url  -O /tmp/chromedriver_linux64.zip\n",
    "\n",
    "unzip -o /tmp/chromedriver_linux64.zip -d /tmp/chromedriver/\n"
   ]
  },
  {
   "cell_type": "code",
   "execution_count": 0,
   "metadata": {
    "application/vnd.databricks.v1+cell": {
     "cellMetadata": {
      "byteLimit": 2048000,
      "rowLimit": 10000
     },
     "inputWidgets": {},
     "nuid": "26a17764-f108-460b-9803-8cc4e540c3bc",
     "showTitle": false,
     "title": ""
    }
   },
   "outputs": [
    {
     "output_type": "stream",
     "name": "stderr",
     "output_type": "stream",
     "text": [
      "\nWARNING: apt does not have a stable CLI interface. Use with caution in scripts.\n\n\nWARNING: apt does not have a stable CLI interface. Use with caution in scripts.\n\n"
     ]
    },
    {
     "output_type": "stream",
     "name": "stdout",
     "output_type": "stream",
     "text": [
      "Get:1 https://repos.azul.com/zulu/deb stable InRelease [5,289 B]\nGet:2 https://repos.azul.com/zulu/deb stable/main amd64 Packages [345 kB]\nGet:3 https://repos.azul.com/zulu/deb stable/main arm64 Packages [202 kB]\nGet:4 http://security.ubuntu.com/ubuntu jammy-security InRelease [129 kB]\nGet:5 http://archive.ubuntu.com/ubuntu jammy InRelease [270 kB]\nGet:6 http://security.ubuntu.com/ubuntu jammy-security/restricted amd64 Packages [3,113 kB]\nGet:7 http://archive.ubuntu.com/ubuntu jammy-updates InRelease [128 kB]\nGet:8 http://archive.ubuntu.com/ubuntu jammy-backports InRelease [127 kB]\nGet:9 http://archive.ubuntu.com/ubuntu jammy/universe amd64 Packages [17.5 MB]\nGet:10 http://security.ubuntu.com/ubuntu jammy-security/main amd64 Packages [2,318 kB]\nGet:11 http://security.ubuntu.com/ubuntu jammy-security/multiverse amd64 Packages [44.7 kB]\nGet:12 http://security.ubuntu.com/ubuntu jammy-security/universe amd64 Packages [1,159 kB]\nGet:13 http://archive.ubuntu.com/ubuntu jammy/main amd64 Packages [1,792 kB]\nGet:14 http://archive.ubuntu.com/ubuntu jammy/multiverse amd64 Packages [266 kB]\nGet:15 http://archive.ubuntu.com/ubuntu jammy/restricted amd64 Packages [164 kB]\nGet:16 http://archive.ubuntu.com/ubuntu jammy-updates/main amd64 Packages [2,596 kB]\nGet:17 http://archive.ubuntu.com/ubuntu jammy-updates/universe amd64 Packages [1,447 kB]\nGet:18 http://archive.ubuntu.com/ubuntu jammy-updates/multiverse amd64 Packages [51.8 kB]\nGet:19 http://archive.ubuntu.com/ubuntu jammy-updates/restricted amd64 Packages [3,191 kB]\nGet:20 http://archive.ubuntu.com/ubuntu jammy-backports/universe amd64 Packages [33.7 kB]\nGet:21 http://archive.ubuntu.com/ubuntu jammy-backports/main amd64 Packages [81.4 kB]\nFetched 34.9 MB in 6s (6,279 kB/s)\nReading package lists...\nBuilding dependency tree...\nReading state information...\n97 packages can be upgraded. Run 'apt list --upgradable' to see them.\n"
     ]
    },
    {
     "output_type": "stream",
     "name": "stderr",
     "output_type": "stream",
     "text": [
      "W: https://repos.azul.com/zulu/deb/dists/stable/InRelease: Key is stored in legacy trusted.gpg keyring (/etc/apt/trusted.gpg), see the DEPRECATION section in apt-key(8) for details.\n"
     ]
    }
   ],
   "source": [
    "%sh\n",
    "sudo rm -r /var/lib/apt/lists/* \n",
    "sudo apt clean && \n",
    "   sudo apt update --fix-missing -y\n"
   ]
  },
  {
   "cell_type": "code",
   "execution_count": 0,
   "metadata": {
    "application/vnd.databricks.v1+cell": {
     "cellMetadata": {
      "byteLimit": 2048000,
      "rowLimit": 10000
     },
     "inputWidgets": {},
     "nuid": "b444b528-a208-4cad-9e79-4c8dfee7719c",
     "showTitle": false,
     "title": ""
    }
   },
   "outputs": [
    {
     "output_type": "stream",
     "name": "stderr",
     "output_type": "stream",
     "text": [
      "Warning: apt-key is deprecated. Manage keyring files in trusted.gpg.d instead (see apt-key(8)).\n"
     ]
    },
    {
     "output_type": "stream",
     "name": "stdout",
     "output_type": "stream",
     "text": [
      "OK\nGet:1 https://dl.google.com/linux/chrome/deb stable InRelease [1,825 B]\nHit:2 https://repos.azul.com/zulu/deb stable InRelease\nGet:3 https://dl.google.com/linux/chrome/deb stable/main amd64 Packages [1,088 B]\nHit:4 http://security.ubuntu.com/ubuntu jammy-security InRelease\nHit:5 http://archive.ubuntu.com/ubuntu jammy InRelease\nHit:6 http://archive.ubuntu.com/ubuntu jammy-updates InRelease\nHit:7 http://archive.ubuntu.com/ubuntu jammy-backports InRelease\nFetched 2,913 B in 1s (2,700 B/s)\nReading package lists...\n"
     ]
    },
    {
     "output_type": "stream",
     "name": "stderr",
     "output_type": "stream",
     "text": [
      "W: https://dl.google.com/linux/chrome/deb/dists/stable/InRelease: Key is stored in legacy trusted.gpg keyring (/etc/apt/trusted.gpg), see the DEPRECATION section in apt-key(8) for details.\nW: https://repos.azul.com/zulu/deb/dists/stable/InRelease: Key is stored in legacy trusted.gpg keyring (/etc/apt/trusted.gpg), see the DEPRECATION section in apt-key(8) for details.\n"
     ]
    },
    {
     "output_type": "stream",
     "name": "stdout",
     "output_type": "stream",
     "text": [
      "Reading package lists...\nBuilding dependency tree...\nReading state information...\nThe following additional packages will be installed:\n  fonts-liberation\nThe following NEW packages will be installed:\n  fonts-liberation google-chrome-stable\n0 upgraded, 2 newly installed, 0 to remove and 97 not upgraded.\nNeed to get 113 MB of archives.\nAfter this operation, 367 MB of additional disk space will be used.\nGet:1 https://dl.google.com/linux/chrome/deb stable/main amd64 google-chrome-stable amd64 129.0.6668.89-1 [112 MB]\nGet:2 http://archive.ubuntu.com/ubuntu jammy/main amd64 fonts-liberation all 1:1.07.4-11 [822 kB]\n"
     ]
    },
    {
     "output_type": "stream",
     "name": "stderr",
     "output_type": "stream",
     "text": [
      "debconf: delaying package configuration, since apt-utils is not installed\n"
     ]
    },
    {
     "output_type": "stream",
     "name": "stdout",
     "output_type": "stream",
     "text": [
      "Fetched 113 MB in 2s (56.0 MB/s)\nSelecting previously unselected package fonts-liberation.\r\n(Reading database ... \r(Reading database ... 5%\r(Reading database ... 10%\r(Reading database ... 15%\r(Reading database ... 20%\r(Reading database ... 25%\r(Reading database ... 30%\r(Reading database ... 35%\r(Reading database ... 40%\r(Reading database ... 45%\r(Reading database ... 50%\r(Reading database ... 55%\r(Reading database ... 60%\r(Reading database ... 65%\r(Reading database ... 70%\r(Reading database ... 75%\r(Reading database ... 80%\r(Reading database ... 85%\r(Reading database ... 90%\r(Reading database ... 95%\r(Reading database ... 100%\r(Reading database ... 100534 files and directories currently installed.)\r\nPreparing to unpack .../fonts-liberation_1%3a1.07.4-11_all.deb ...\r\nUnpacking fonts-liberation (1:1.07.4-11) ...\r\nSelecting previously unselected package google-chrome-stable.\r\nPreparing to unpack .../google-chrome-stable_129.0.6668.89-1_amd64.deb ...\r\nUnpacking google-chrome-stable (129.0.6668.89-1) ...\r\nSetting up fonts-liberation (1:1.07.4-11) ...\r\nSetting up google-chrome-stable (129.0.6668.89-1) ...\r\nupdate-alternatives: using /usr/bin/google-chrome-stable to provide /usr/bin/x-www-browser (x-www-browser) in auto mode\r\nupdate-alternatives: using /usr/bin/google-chrome-stable to provide /usr/bin/gnome-www-browser (gnome-www-browser) in auto mode\r\nupdate-alternatives: using /usr/bin/google-chrome-stable to provide /usr/bin/google-chrome (google-chrome) in auto mode\r\nProcessing triggers for mailcap (3.70+nmu1ubuntu1) ...\r\nProcessing triggers for fontconfig (2.13.1-4.2ubuntu5) ...\r\nProcessing triggers for man-db (2.10.2-1) ...\r\n"
     ]
    }
   ],
   "source": [
    "%sh\n",
    "sudo curl -sS -o - https://dl-ssl.google.com/linux/linux_signing_key.pub | apt-key add\n",
    "sudo echo \"deb https://dl.google.com/linux/chrome/deb/ stable main\" >> /etc/apt/sources.list.d/google-chrome.list\n",
    "sudo apt-get -y update\n",
    "sudo apt-get -y install google-chrome-stable"
   ]
  },
  {
   "cell_type": "code",
   "execution_count": 0,
   "metadata": {
    "application/vnd.databricks.v1+cell": {
     "cellMetadata": {
      "byteLimit": 2048000,
      "rowLimit": 10000
     },
     "inputWidgets": {},
     "nuid": "319d60ee-12b4-47a0-9ca2-bee3bc3d0c50",
     "showTitle": false,
     "title": ""
    }
   },
   "outputs": [],
   "source": [
    "def init_chrome_browser(download_path, chrome_driver_path,  url):\n",
    "     \n",
    "    options = Options()\n",
    "    prefs = {'download.default_directory' : download_path, 'profile.default_content_setting_values.automatic_downloads': 1, \"download.prompt_for_download\": False,\n",
    "  \"download.directory_upgrade\": True,   \"safebrowsing.enabled\": True ,\n",
    "  \"translate_whitelists\": {\"vi\":\"en\"},\n",
    "  \"translate\":{\"enabled\":\"true\"}}\n",
    "    options.add_experimental_option('prefs', prefs)\n",
    "    options.add_argument('--no-sandbox')\n",
    "    options.add_argument('--headless')    # wont work without this feature in databricks can't display browser\n",
    "    options.add_argument('--disable-dev-shm-usage')\n",
    "    options.add_argument('--start-maximized')\n",
    "    options.add_argument('window-size=2560,1440')\n",
    "    options.add_argument('--ignore-certificate-errors')\n",
    "    options.add_argument('--ignore-ssl-errors')\n",
    "    options.add_argument('--lang=en')\n",
    "    options.add_experimental_option('excludeSwitches', ['enable-logging'])\n",
    "    print(f\"{datetime.now()}    Launching Chrome...\")\n",
    "    browser = webdriver.Chrome(service=Service(chrome_driver_path), options=options)\n",
    "    print(f\"{datetime.now()}    Chrome launched.\")\n",
    "    browser.get(url)\n",
    "    print(f\"{datetime.now()}    Browser ready to use.\")\n",
    "    return browser"
   ]
  },
  {
   "cell_type": "code",
   "execution_count": 0,
   "metadata": {
    "application/vnd.databricks.v1+cell": {
     "cellMetadata": {
      "byteLimit": 2048000,
      "rowLimit": 10000
     },
     "inputWidgets": {},
     "nuid": "5010b54d-0f9a-4d70-b48a-b5707914eda0",
     "showTitle": false,
     "title": ""
    }
   },
   "outputs": [
    {
     "output_type": "stream",
     "name": "stdout",
     "output_type": "stream",
     "text": [
      "2024-10-04 05:55:30.200381    Launching Chrome...\n2024-10-04 05:55:30.546910    Chrome launched.\n2024-10-04 05:55:31.059773    Browser ready to use.\n"
     ]
    }
   ],
   "source": [
    "driver = init_chrome_browser(\n",
    "    download_path=\"/tmp/downloads\",\n",
    "    chrome_driver_path=\"/tmp/chromedriver/chromedriver-linux64/chromedriver\",\n",
    "    url= \"https://www.google.com\"\n",
    ")"
   ]
  },
  {
   "cell_type": "code",
   "execution_count": 0,
   "metadata": {
    "application/vnd.databricks.v1+cell": {
     "cellMetadata": {
      "byteLimit": 2048000,
      "rowLimit": 10000
     },
     "inputWidgets": {},
     "nuid": "1adb581d-f5ef-4cf0-86b1-766d4a69dabb",
     "showTitle": false,
     "title": ""
    }
   },
   "outputs": [
    {
     "output_type": "stream",
     "name": "stdout",
     "output_type": "stream",
     "text": [
      "The role of the 'Google Search' button is: button\n"
     ]
    }
   ],
   "source": [
    "from selenium.webdriver.common.by import By\n",
    "\n",
    "\n",
    "driver.get(\"http://www.google.com\") # 更改網址以前往不同網頁\n",
    "\n",
    "\n",
    "# Locate the \"Google Search\" button by its name attribute\n",
    "search_button = driver.find_element(By.NAME, \"btnK\")\n",
    "\n",
    "# Get the value attribute of the button\n",
    "button_value = search_button.get_attribute(\"role\")\n",
    "\n",
    "print(\"The role of the 'Google Search' button is:\", button_value)\n"
   ]
  }
 ],
 "metadata": {
  "application/vnd.databricks.v1+notebook": {
   "dashboards": [],
   "environmentMetadata": null,
   "language": "python",
   "notebookMetadata": {
    "mostRecentlyExecutedCommandWithImplicitDF": {
     "commandId": 482412570548468,
     "dataframes": [
      "_sqldf"
     ]
    },
    "pythonIndentUnit": 4
   },
   "notebookName": "test - http api selenium-webscrapping",
   "widgets": {}
  }
 },
 "nbformat": 4,
 "nbformat_minor": 0
}
